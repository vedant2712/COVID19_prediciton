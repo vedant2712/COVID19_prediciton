{
 "cells": [
  {
   "cell_type": "code",
   "execution_count": 4,
   "id": "3bd16578",
   "metadata": {},
   "outputs": [],
   "source": [
    "import fbprophet "
   ]
  },
  {
   "cell_type": "code",
   "execution_count": 5,
   "id": "0ebdfc88",
   "metadata": {},
   "outputs": [],
   "source": [
    "from fbprophet import Prophet"
   ]
  },
  {
   "cell_type": "code",
   "execution_count": 6,
   "id": "b2678dce",
   "metadata": {},
   "outputs": [],
   "source": [
    "import pandas as pd"
   ]
  },
  {
   "cell_type": "code",
   "execution_count": 7,
   "id": "7c5f6c59",
   "metadata": {},
   "outputs": [],
   "source": [
    "df=pd.read_csv('C:/Users/vedan/Downloads/covid_19_clean_complete.csv')"
   ]
  },
  {
   "cell_type": "code",
   "execution_count": 8,
   "id": "71c7076c",
   "metadata": {},
   "outputs": [],
   "source": [
    "df['Date']=pd.to_datetime(df['Date'])"
   ]
  },
  {
   "cell_type": "code",
   "execution_count": 9,
   "id": "4135f0e4",
   "metadata": {},
   "outputs": [
    {
     "data": {
      "text/html": [
       "<div>\n",
       "<style scoped>\n",
       "    .dataframe tbody tr th:only-of-type {\n",
       "        vertical-align: middle;\n",
       "    }\n",
       "\n",
       "    .dataframe tbody tr th {\n",
       "        vertical-align: top;\n",
       "    }\n",
       "\n",
       "    .dataframe thead th {\n",
       "        text-align: right;\n",
       "    }\n",
       "</style>\n",
       "<table border=\"1\" class=\"dataframe\">\n",
       "  <thead>\n",
       "    <tr style=\"text-align: right;\">\n",
       "      <th></th>\n",
       "      <th>Province/State</th>\n",
       "      <th>Country/Region</th>\n",
       "      <th>Lat</th>\n",
       "      <th>Long</th>\n",
       "      <th>Date</th>\n",
       "      <th>Confirmed</th>\n",
       "      <th>Deaths</th>\n",
       "      <th>Recovered</th>\n",
       "      <th>Active</th>\n",
       "      <th>WHO Region</th>\n",
       "    </tr>\n",
       "  </thead>\n",
       "  <tbody>\n",
       "    <tr>\n",
       "      <th>0</th>\n",
       "      <td>NaN</td>\n",
       "      <td>Afghanistan</td>\n",
       "      <td>33.93911</td>\n",
       "      <td>67.709953</td>\n",
       "      <td>2020-01-22</td>\n",
       "      <td>0</td>\n",
       "      <td>0</td>\n",
       "      <td>0</td>\n",
       "      <td>0</td>\n",
       "      <td>Eastern Mediterranean</td>\n",
       "    </tr>\n",
       "    <tr>\n",
       "      <th>1</th>\n",
       "      <td>NaN</td>\n",
       "      <td>Albania</td>\n",
       "      <td>41.15330</td>\n",
       "      <td>20.168300</td>\n",
       "      <td>2020-01-22</td>\n",
       "      <td>0</td>\n",
       "      <td>0</td>\n",
       "      <td>0</td>\n",
       "      <td>0</td>\n",
       "      <td>Europe</td>\n",
       "    </tr>\n",
       "    <tr>\n",
       "      <th>2</th>\n",
       "      <td>NaN</td>\n",
       "      <td>Algeria</td>\n",
       "      <td>28.03390</td>\n",
       "      <td>1.659600</td>\n",
       "      <td>2020-01-22</td>\n",
       "      <td>0</td>\n",
       "      <td>0</td>\n",
       "      <td>0</td>\n",
       "      <td>0</td>\n",
       "      <td>Africa</td>\n",
       "    </tr>\n",
       "    <tr>\n",
       "      <th>3</th>\n",
       "      <td>NaN</td>\n",
       "      <td>Andorra</td>\n",
       "      <td>42.50630</td>\n",
       "      <td>1.521800</td>\n",
       "      <td>2020-01-22</td>\n",
       "      <td>0</td>\n",
       "      <td>0</td>\n",
       "      <td>0</td>\n",
       "      <td>0</td>\n",
       "      <td>Europe</td>\n",
       "    </tr>\n",
       "    <tr>\n",
       "      <th>4</th>\n",
       "      <td>NaN</td>\n",
       "      <td>Angola</td>\n",
       "      <td>-11.20270</td>\n",
       "      <td>17.873900</td>\n",
       "      <td>2020-01-22</td>\n",
       "      <td>0</td>\n",
       "      <td>0</td>\n",
       "      <td>0</td>\n",
       "      <td>0</td>\n",
       "      <td>Africa</td>\n",
       "    </tr>\n",
       "  </tbody>\n",
       "</table>\n",
       "</div>"
      ],
      "text/plain": [
       "  Province/State Country/Region       Lat       Long       Date  Confirmed  \\\n",
       "0            NaN    Afghanistan  33.93911  67.709953 2020-01-22          0   \n",
       "1            NaN        Albania  41.15330  20.168300 2020-01-22          0   \n",
       "2            NaN        Algeria  28.03390   1.659600 2020-01-22          0   \n",
       "3            NaN        Andorra  42.50630   1.521800 2020-01-22          0   \n",
       "4            NaN         Angola -11.20270  17.873900 2020-01-22          0   \n",
       "\n",
       "   Deaths  Recovered  Active             WHO Region  \n",
       "0       0          0       0  Eastern Mediterranean  \n",
       "1       0          0       0                 Europe  \n",
       "2       0          0       0                 Africa  \n",
       "3       0          0       0                 Europe  \n",
       "4       0          0       0                 Africa  "
      ]
     },
     "execution_count": 9,
     "metadata": {},
     "output_type": "execute_result"
    }
   ],
   "source": [
    "df.head()"
   ]
  },
  {
   "cell_type": "code",
   "execution_count": 10,
   "id": "c1be82f0",
   "metadata": {},
   "outputs": [
    {
     "data": {
      "text/plain": [
       "Province/State    34404\n",
       "Country/Region        0\n",
       "Lat                   0\n",
       "Long                  0\n",
       "Date                  0\n",
       "Confirmed             0\n",
       "Deaths                0\n",
       "Recovered             0\n",
       "Active                0\n",
       "WHO Region            0\n",
       "dtype: int64"
      ]
     },
     "execution_count": 10,
     "metadata": {},
     "output_type": "execute_result"
    }
   ],
   "source": [
    "df.isnull().sum()"
   ]
  },
  {
   "cell_type": "code",
   "execution_count": 11,
   "id": "056279df",
   "metadata": {},
   "outputs": [
    {
     "data": {
      "text/plain": [
       "188"
      ]
     },
     "execution_count": 11,
     "metadata": {},
     "output_type": "execute_result"
    }
   ],
   "source": [
    "df['Date'].nunique()"
   ]
  },
  {
   "cell_type": "code",
   "execution_count": 12,
   "id": "8f14d60a",
   "metadata": {},
   "outputs": [
    {
     "name": "stderr",
     "output_type": "stream",
     "text": [
      "<ipython-input-12-51a1e550c1a6>:1: FutureWarning: Indexing with multiple keys (implicitly converted to a tuple of keys) will be deprecated, use a list instead.\n",
      "  data=df.groupby(df['Date'])['Confirmed','Deaths','Recovered','Active'].sum().reset_index()\n"
     ]
    }
   ],
   "source": [
    "data=df.groupby(df['Date'])['Confirmed','Deaths','Recovered','Active'].sum().reset_index()"
   ]
  },
  {
   "cell_type": "code",
   "execution_count": 13,
   "id": "4bef5eb9",
   "metadata": {},
   "outputs": [
    {
     "data": {
      "text/html": [
       "<div>\n",
       "<style scoped>\n",
       "    .dataframe tbody tr th:only-of-type {\n",
       "        vertical-align: middle;\n",
       "    }\n",
       "\n",
       "    .dataframe tbody tr th {\n",
       "        vertical-align: top;\n",
       "    }\n",
       "\n",
       "    .dataframe thead th {\n",
       "        text-align: right;\n",
       "    }\n",
       "</style>\n",
       "<table border=\"1\" class=\"dataframe\">\n",
       "  <thead>\n",
       "    <tr style=\"text-align: right;\">\n",
       "      <th></th>\n",
       "      <th>Date</th>\n",
       "      <th>Confirmed</th>\n",
       "      <th>Deaths</th>\n",
       "      <th>Recovered</th>\n",
       "      <th>Active</th>\n",
       "    </tr>\n",
       "  </thead>\n",
       "  <tbody>\n",
       "    <tr>\n",
       "      <th>0</th>\n",
       "      <td>2020-01-22</td>\n",
       "      <td>555</td>\n",
       "      <td>17</td>\n",
       "      <td>28</td>\n",
       "      <td>510</td>\n",
       "    </tr>\n",
       "    <tr>\n",
       "      <th>1</th>\n",
       "      <td>2020-01-23</td>\n",
       "      <td>654</td>\n",
       "      <td>18</td>\n",
       "      <td>30</td>\n",
       "      <td>606</td>\n",
       "    </tr>\n",
       "    <tr>\n",
       "      <th>2</th>\n",
       "      <td>2020-01-24</td>\n",
       "      <td>941</td>\n",
       "      <td>26</td>\n",
       "      <td>36</td>\n",
       "      <td>879</td>\n",
       "    </tr>\n",
       "    <tr>\n",
       "      <th>3</th>\n",
       "      <td>2020-01-25</td>\n",
       "      <td>1434</td>\n",
       "      <td>42</td>\n",
       "      <td>39</td>\n",
       "      <td>1353</td>\n",
       "    </tr>\n",
       "    <tr>\n",
       "      <th>4</th>\n",
       "      <td>2020-01-26</td>\n",
       "      <td>2118</td>\n",
       "      <td>56</td>\n",
       "      <td>52</td>\n",
       "      <td>2010</td>\n",
       "    </tr>\n",
       "  </tbody>\n",
       "</table>\n",
       "</div>"
      ],
      "text/plain": [
       "        Date  Confirmed  Deaths  Recovered  Active\n",
       "0 2020-01-22        555      17         28     510\n",
       "1 2020-01-23        654      18         30     606\n",
       "2 2020-01-24        941      26         36     879\n",
       "3 2020-01-25       1434      42         39    1353\n",
       "4 2020-01-26       2118      56         52    2010"
      ]
     },
     "execution_count": 13,
     "metadata": {},
     "output_type": "execute_result"
    }
   ],
   "source": [
    "data.head()"
   ]
  },
  {
   "cell_type": "code",
   "execution_count": 14,
   "id": "87877637",
   "metadata": {},
   "outputs": [],
   "source": [
    "df1=data.rename(columns={'Date':'ds','Confirmed':'y'})"
   ]
  },
  {
   "cell_type": "code",
   "execution_count": 15,
   "id": "2e5e2e3a",
   "metadata": {},
   "outputs": [
    {
     "data": {
      "text/html": [
       "<div>\n",
       "<style scoped>\n",
       "    .dataframe tbody tr th:only-of-type {\n",
       "        vertical-align: middle;\n",
       "    }\n",
       "\n",
       "    .dataframe tbody tr th {\n",
       "        vertical-align: top;\n",
       "    }\n",
       "\n",
       "    .dataframe thead th {\n",
       "        text-align: right;\n",
       "    }\n",
       "</style>\n",
       "<table border=\"1\" class=\"dataframe\">\n",
       "  <thead>\n",
       "    <tr style=\"text-align: right;\">\n",
       "      <th></th>\n",
       "      <th>ds</th>\n",
       "      <th>y</th>\n",
       "      <th>Deaths</th>\n",
       "      <th>Recovered</th>\n",
       "      <th>Active</th>\n",
       "    </tr>\n",
       "  </thead>\n",
       "  <tbody>\n",
       "    <tr>\n",
       "      <th>0</th>\n",
       "      <td>2020-01-22</td>\n",
       "      <td>555</td>\n",
       "      <td>17</td>\n",
       "      <td>28</td>\n",
       "      <td>510</td>\n",
       "    </tr>\n",
       "    <tr>\n",
       "      <th>1</th>\n",
       "      <td>2020-01-23</td>\n",
       "      <td>654</td>\n",
       "      <td>18</td>\n",
       "      <td>30</td>\n",
       "      <td>606</td>\n",
       "    </tr>\n",
       "    <tr>\n",
       "      <th>2</th>\n",
       "      <td>2020-01-24</td>\n",
       "      <td>941</td>\n",
       "      <td>26</td>\n",
       "      <td>36</td>\n",
       "      <td>879</td>\n",
       "    </tr>\n",
       "    <tr>\n",
       "      <th>3</th>\n",
       "      <td>2020-01-25</td>\n",
       "      <td>1434</td>\n",
       "      <td>42</td>\n",
       "      <td>39</td>\n",
       "      <td>1353</td>\n",
       "    </tr>\n",
       "    <tr>\n",
       "      <th>4</th>\n",
       "      <td>2020-01-26</td>\n",
       "      <td>2118</td>\n",
       "      <td>56</td>\n",
       "      <td>52</td>\n",
       "      <td>2010</td>\n",
       "    </tr>\n",
       "  </tbody>\n",
       "</table>\n",
       "</div>"
      ],
      "text/plain": [
       "          ds     y  Deaths  Recovered  Active\n",
       "0 2020-01-22   555      17         28     510\n",
       "1 2020-01-23   654      18         30     606\n",
       "2 2020-01-24   941      26         36     879\n",
       "3 2020-01-25  1434      42         39    1353\n",
       "4 2020-01-26  2118      56         52    2010"
      ]
     },
     "execution_count": 15,
     "metadata": {},
     "output_type": "execute_result"
    }
   ],
   "source": [
    "df1.head()"
   ]
  },
  {
   "cell_type": "code",
   "execution_count": 16,
   "id": "a6004ce9",
   "metadata": {},
   "outputs": [],
   "source": [
    "m=Prophet()"
   ]
  },
  {
   "cell_type": "code",
   "execution_count": 17,
   "id": "3731a1ff",
   "metadata": {},
   "outputs": [
    {
     "name": "stderr",
     "output_type": "stream",
     "text": [
      "INFO:numexpr.utils:NumExpr defaulting to 8 threads.\n",
      "INFO:fbprophet:Disabling yearly seasonality. Run prophet with yearly_seasonality=True to override this.\n",
      "INFO:fbprophet:Disabling daily seasonality. Run prophet with daily_seasonality=True to override this.\n"
     ]
    }
   ],
   "source": [
    "model=m.fit(df1)"
   ]
  },
  {
   "cell_type": "code",
   "execution_count": 18,
   "id": "ee8cbd9c",
   "metadata": {},
   "outputs": [
    {
     "data": {
      "text/plain": [
       "OrderedDict([('weekly',\n",
       "              {'period': 7,\n",
       "               'fourier_order': 3,\n",
       "               'prior_scale': 10.0,\n",
       "               'mode': 'additive',\n",
       "               'condition_name': None})])"
      ]
     },
     "execution_count": 18,
     "metadata": {},
     "output_type": "execute_result"
    }
   ],
   "source": [
    "model.seasonalities"
   ]
  },
  {
   "cell_type": "code",
   "execution_count": 19,
   "id": "feceac9e",
   "metadata": {},
   "outputs": [],
   "source": [
    "future_global=model.make_future_dataframe(periods=30,freq='D')"
   ]
  },
  {
   "cell_type": "code",
   "execution_count": 20,
   "id": "f9337c25",
   "metadata": {},
   "outputs": [
    {
     "data": {
      "text/html": [
       "<div>\n",
       "<style scoped>\n",
       "    .dataframe tbody tr th:only-of-type {\n",
       "        vertical-align: middle;\n",
       "    }\n",
       "\n",
       "    .dataframe tbody tr th {\n",
       "        vertical-align: top;\n",
       "    }\n",
       "\n",
       "    .dataframe thead th {\n",
       "        text-align: right;\n",
       "    }\n",
       "</style>\n",
       "<table border=\"1\" class=\"dataframe\">\n",
       "  <thead>\n",
       "    <tr style=\"text-align: right;\">\n",
       "      <th></th>\n",
       "      <th>ds</th>\n",
       "    </tr>\n",
       "  </thead>\n",
       "  <tbody>\n",
       "    <tr>\n",
       "      <th>0</th>\n",
       "      <td>2020-01-22</td>\n",
       "    </tr>\n",
       "    <tr>\n",
       "      <th>1</th>\n",
       "      <td>2020-01-23</td>\n",
       "    </tr>\n",
       "    <tr>\n",
       "      <th>2</th>\n",
       "      <td>2020-01-24</td>\n",
       "    </tr>\n",
       "    <tr>\n",
       "      <th>3</th>\n",
       "      <td>2020-01-25</td>\n",
       "    </tr>\n",
       "    <tr>\n",
       "      <th>4</th>\n",
       "      <td>2020-01-26</td>\n",
       "    </tr>\n",
       "  </tbody>\n",
       "</table>\n",
       "</div>"
      ],
      "text/plain": [
       "          ds\n",
       "0 2020-01-22\n",
       "1 2020-01-23\n",
       "2 2020-01-24\n",
       "3 2020-01-25\n",
       "4 2020-01-26"
      ]
     },
     "execution_count": 20,
     "metadata": {},
     "output_type": "execute_result"
    }
   ],
   "source": [
    "future_global.head()"
   ]
  },
  {
   "cell_type": "code",
   "execution_count": 21,
   "id": "32734018",
   "metadata": {},
   "outputs": [
    {
     "data": {
      "text/plain": [
       "(218, 1)"
      ]
     },
     "execution_count": 21,
     "metadata": {},
     "output_type": "execute_result"
    }
   ],
   "source": [
    "future_global.shape"
   ]
  },
  {
   "cell_type": "code",
   "execution_count": 22,
   "id": "953ca556",
   "metadata": {},
   "outputs": [
    {
     "data": {
      "text/html": [
       "<div>\n",
       "<style scoped>\n",
       "    .dataframe tbody tr th:only-of-type {\n",
       "        vertical-align: middle;\n",
       "    }\n",
       "\n",
       "    .dataframe tbody tr th {\n",
       "        vertical-align: top;\n",
       "    }\n",
       "\n",
       "    .dataframe thead th {\n",
       "        text-align: right;\n",
       "    }\n",
       "</style>\n",
       "<table border=\"1\" class=\"dataframe\">\n",
       "  <thead>\n",
       "    <tr style=\"text-align: right;\">\n",
       "      <th></th>\n",
       "      <th>ds</th>\n",
       "      <th>trend</th>\n",
       "      <th>yhat_lower</th>\n",
       "      <th>yhat_upper</th>\n",
       "      <th>trend_lower</th>\n",
       "      <th>trend_upper</th>\n",
       "      <th>additive_terms</th>\n",
       "      <th>additive_terms_lower</th>\n",
       "      <th>additive_terms_upper</th>\n",
       "      <th>weekly</th>\n",
       "      <th>weekly_lower</th>\n",
       "      <th>weekly_upper</th>\n",
       "      <th>multiplicative_terms</th>\n",
       "      <th>multiplicative_terms_lower</th>\n",
       "      <th>multiplicative_terms_upper</th>\n",
       "      <th>yhat</th>\n",
       "    </tr>\n",
       "  </thead>\n",
       "  <tbody>\n",
       "    <tr>\n",
       "      <th>0</th>\n",
       "      <td>2020-01-22</td>\n",
       "      <td>-1.063986e+04</td>\n",
       "      <td>-1.173480e+05</td>\n",
       "      <td>9.342996e+04</td>\n",
       "      <td>-1.063986e+04</td>\n",
       "      <td>-1.063986e+04</td>\n",
       "      <td>-10982.447793</td>\n",
       "      <td>-10982.447793</td>\n",
       "      <td>-10982.447793</td>\n",
       "      <td>-10982.447793</td>\n",
       "      <td>-10982.447793</td>\n",
       "      <td>-10982.447793</td>\n",
       "      <td>0.0</td>\n",
       "      <td>0.0</td>\n",
       "      <td>0.0</td>\n",
       "      <td>-2.162230e+04</td>\n",
       "    </tr>\n",
       "    <tr>\n",
       "      <th>1</th>\n",
       "      <td>2020-01-23</td>\n",
       "      <td>-7.901275e+03</td>\n",
       "      <td>-1.135792e+05</td>\n",
       "      <td>9.266637e+04</td>\n",
       "      <td>-7.901275e+03</td>\n",
       "      <td>-7.901275e+03</td>\n",
       "      <td>-1076.670504</td>\n",
       "      <td>-1076.670504</td>\n",
       "      <td>-1076.670504</td>\n",
       "      <td>-1076.670504</td>\n",
       "      <td>-1076.670504</td>\n",
       "      <td>-1076.670504</td>\n",
       "      <td>0.0</td>\n",
       "      <td>0.0</td>\n",
       "      <td>0.0</td>\n",
       "      <td>-8.977945e+03</td>\n",
       "    </tr>\n",
       "    <tr>\n",
       "      <th>2</th>\n",
       "      <td>2020-01-24</td>\n",
       "      <td>-5.162694e+03</td>\n",
       "      <td>-1.072042e+05</td>\n",
       "      <td>1.017124e+05</td>\n",
       "      <td>-5.162694e+03</td>\n",
       "      <td>-5.162694e+03</td>\n",
       "      <td>10097.471121</td>\n",
       "      <td>10097.471121</td>\n",
       "      <td>10097.471121</td>\n",
       "      <td>10097.471121</td>\n",
       "      <td>10097.471121</td>\n",
       "      <td>10097.471121</td>\n",
       "      <td>0.0</td>\n",
       "      <td>0.0</td>\n",
       "      <td>0.0</td>\n",
       "      <td>4.934777e+03</td>\n",
       "    </tr>\n",
       "    <tr>\n",
       "      <th>3</th>\n",
       "      <td>2020-01-25</td>\n",
       "      <td>-2.424113e+03</td>\n",
       "      <td>-9.287379e+04</td>\n",
       "      <td>1.197760e+05</td>\n",
       "      <td>-2.424113e+03</td>\n",
       "      <td>-2.424113e+03</td>\n",
       "      <td>13741.427160</td>\n",
       "      <td>13741.427160</td>\n",
       "      <td>13741.427160</td>\n",
       "      <td>13741.427160</td>\n",
       "      <td>13741.427160</td>\n",
       "      <td>13741.427160</td>\n",
       "      <td>0.0</td>\n",
       "      <td>0.0</td>\n",
       "      <td>0.0</td>\n",
       "      <td>1.131731e+04</td>\n",
       "    </tr>\n",
       "    <tr>\n",
       "      <th>4</th>\n",
       "      <td>2020-01-26</td>\n",
       "      <td>3.144674e+02</td>\n",
       "      <td>-1.049752e+05</td>\n",
       "      <td>1.150424e+05</td>\n",
       "      <td>3.144674e+02</td>\n",
       "      <td>3.144674e+02</td>\n",
       "      <td>7236.701390</td>\n",
       "      <td>7236.701390</td>\n",
       "      <td>7236.701390</td>\n",
       "      <td>7236.701390</td>\n",
       "      <td>7236.701390</td>\n",
       "      <td>7236.701390</td>\n",
       "      <td>0.0</td>\n",
       "      <td>0.0</td>\n",
       "      <td>0.0</td>\n",
       "      <td>7.551169e+03</td>\n",
       "    </tr>\n",
       "    <tr>\n",
       "      <th>...</th>\n",
       "      <td>...</td>\n",
       "      <td>...</td>\n",
       "      <td>...</td>\n",
       "      <td>...</td>\n",
       "      <td>...</td>\n",
       "      <td>...</td>\n",
       "      <td>...</td>\n",
       "      <td>...</td>\n",
       "      <td>...</td>\n",
       "      <td>...</td>\n",
       "      <td>...</td>\n",
       "      <td>...</td>\n",
       "      <td>...</td>\n",
       "      <td>...</td>\n",
       "      <td>...</td>\n",
       "      <td>...</td>\n",
       "    </tr>\n",
       "    <tr>\n",
       "      <th>213</th>\n",
       "      <td>2020-08-22</td>\n",
       "      <td>2.144058e+07</td>\n",
       "      <td>2.107921e+07</td>\n",
       "      <td>2.180658e+07</td>\n",
       "      <td>2.106651e+07</td>\n",
       "      <td>2.177477e+07</td>\n",
       "      <td>13741.427160</td>\n",
       "      <td>13741.427160</td>\n",
       "      <td>13741.427160</td>\n",
       "      <td>13741.427160</td>\n",
       "      <td>13741.427160</td>\n",
       "      <td>13741.427160</td>\n",
       "      <td>0.0</td>\n",
       "      <td>0.0</td>\n",
       "      <td>0.0</td>\n",
       "      <td>2.145432e+07</td>\n",
       "    </tr>\n",
       "    <tr>\n",
       "      <th>214</th>\n",
       "      <td>2020-08-23</td>\n",
       "      <td>2.164466e+07</td>\n",
       "      <td>2.124118e+07</td>\n",
       "      <td>2.202998e+07</td>\n",
       "      <td>2.124538e+07</td>\n",
       "      <td>2.200705e+07</td>\n",
       "      <td>7236.701390</td>\n",
       "      <td>7236.701390</td>\n",
       "      <td>7236.701390</td>\n",
       "      <td>7236.701390</td>\n",
       "      <td>7236.701390</td>\n",
       "      <td>7236.701390</td>\n",
       "      <td>0.0</td>\n",
       "      <td>0.0</td>\n",
       "      <td>0.0</td>\n",
       "      <td>2.165190e+07</td>\n",
       "    </tr>\n",
       "    <tr>\n",
       "      <th>215</th>\n",
       "      <td>2020-08-24</td>\n",
       "      <td>2.184875e+07</td>\n",
       "      <td>2.142619e+07</td>\n",
       "      <td>2.223779e+07</td>\n",
       "      <td>2.142173e+07</td>\n",
       "      <td>2.222629e+07</td>\n",
       "      <td>-2165.964784</td>\n",
       "      <td>-2165.964784</td>\n",
       "      <td>-2165.964784</td>\n",
       "      <td>-2165.964784</td>\n",
       "      <td>-2165.964784</td>\n",
       "      <td>-2165.964784</td>\n",
       "      <td>0.0</td>\n",
       "      <td>0.0</td>\n",
       "      <td>0.0</td>\n",
       "      <td>2.184658e+07</td>\n",
       "    </tr>\n",
       "    <tr>\n",
       "      <th>216</th>\n",
       "      <td>2020-08-25</td>\n",
       "      <td>2.205283e+07</td>\n",
       "      <td>2.157447e+07</td>\n",
       "      <td>2.244933e+07</td>\n",
       "      <td>2.160522e+07</td>\n",
       "      <td>2.246112e+07</td>\n",
       "      <td>-16850.516589</td>\n",
       "      <td>-16850.516589</td>\n",
       "      <td>-16850.516589</td>\n",
       "      <td>-16850.516589</td>\n",
       "      <td>-16850.516589</td>\n",
       "      <td>-16850.516589</td>\n",
       "      <td>0.0</td>\n",
       "      <td>0.0</td>\n",
       "      <td>0.0</td>\n",
       "      <td>2.203598e+07</td>\n",
       "    </tr>\n",
       "    <tr>\n",
       "      <th>217</th>\n",
       "      <td>2020-08-26</td>\n",
       "      <td>2.225691e+07</td>\n",
       "      <td>2.175090e+07</td>\n",
       "      <td>2.270050e+07</td>\n",
       "      <td>2.178497e+07</td>\n",
       "      <td>2.268405e+07</td>\n",
       "      <td>-10982.447793</td>\n",
       "      <td>-10982.447793</td>\n",
       "      <td>-10982.447793</td>\n",
       "      <td>-10982.447793</td>\n",
       "      <td>-10982.447793</td>\n",
       "      <td>-10982.447793</td>\n",
       "      <td>0.0</td>\n",
       "      <td>0.0</td>\n",
       "      <td>0.0</td>\n",
       "      <td>2.224593e+07</td>\n",
       "    </tr>\n",
       "  </tbody>\n",
       "</table>\n",
       "<p>218 rows × 16 columns</p>\n",
       "</div>"
      ],
      "text/plain": [
       "            ds         trend    yhat_lower    yhat_upper   trend_lower  \\\n",
       "0   2020-01-22 -1.063986e+04 -1.173480e+05  9.342996e+04 -1.063986e+04   \n",
       "1   2020-01-23 -7.901275e+03 -1.135792e+05  9.266637e+04 -7.901275e+03   \n",
       "2   2020-01-24 -5.162694e+03 -1.072042e+05  1.017124e+05 -5.162694e+03   \n",
       "3   2020-01-25 -2.424113e+03 -9.287379e+04  1.197760e+05 -2.424113e+03   \n",
       "4   2020-01-26  3.144674e+02 -1.049752e+05  1.150424e+05  3.144674e+02   \n",
       "..         ...           ...           ...           ...           ...   \n",
       "213 2020-08-22  2.144058e+07  2.107921e+07  2.180658e+07  2.106651e+07   \n",
       "214 2020-08-23  2.164466e+07  2.124118e+07  2.202998e+07  2.124538e+07   \n",
       "215 2020-08-24  2.184875e+07  2.142619e+07  2.223779e+07  2.142173e+07   \n",
       "216 2020-08-25  2.205283e+07  2.157447e+07  2.244933e+07  2.160522e+07   \n",
       "217 2020-08-26  2.225691e+07  2.175090e+07  2.270050e+07  2.178497e+07   \n",
       "\n",
       "      trend_upper  additive_terms  additive_terms_lower  additive_terms_upper  \\\n",
       "0   -1.063986e+04   -10982.447793         -10982.447793         -10982.447793   \n",
       "1   -7.901275e+03    -1076.670504          -1076.670504          -1076.670504   \n",
       "2   -5.162694e+03    10097.471121          10097.471121          10097.471121   \n",
       "3   -2.424113e+03    13741.427160          13741.427160          13741.427160   \n",
       "4    3.144674e+02     7236.701390           7236.701390           7236.701390   \n",
       "..            ...             ...                   ...                   ...   \n",
       "213  2.177477e+07    13741.427160          13741.427160          13741.427160   \n",
       "214  2.200705e+07     7236.701390           7236.701390           7236.701390   \n",
       "215  2.222629e+07    -2165.964784          -2165.964784          -2165.964784   \n",
       "216  2.246112e+07   -16850.516589         -16850.516589         -16850.516589   \n",
       "217  2.268405e+07   -10982.447793         -10982.447793         -10982.447793   \n",
       "\n",
       "           weekly  weekly_lower  weekly_upper  multiplicative_terms  \\\n",
       "0   -10982.447793 -10982.447793 -10982.447793                   0.0   \n",
       "1    -1076.670504  -1076.670504  -1076.670504                   0.0   \n",
       "2    10097.471121  10097.471121  10097.471121                   0.0   \n",
       "3    13741.427160  13741.427160  13741.427160                   0.0   \n",
       "4     7236.701390   7236.701390   7236.701390                   0.0   \n",
       "..            ...           ...           ...                   ...   \n",
       "213  13741.427160  13741.427160  13741.427160                   0.0   \n",
       "214   7236.701390   7236.701390   7236.701390                   0.0   \n",
       "215  -2165.964784  -2165.964784  -2165.964784                   0.0   \n",
       "216 -16850.516589 -16850.516589 -16850.516589                   0.0   \n",
       "217 -10982.447793 -10982.447793 -10982.447793                   0.0   \n",
       "\n",
       "     multiplicative_terms_lower  multiplicative_terms_upper          yhat  \n",
       "0                           0.0                         0.0 -2.162230e+04  \n",
       "1                           0.0                         0.0 -8.977945e+03  \n",
       "2                           0.0                         0.0  4.934777e+03  \n",
       "3                           0.0                         0.0  1.131731e+04  \n",
       "4                           0.0                         0.0  7.551169e+03  \n",
       "..                          ...                         ...           ...  \n",
       "213                         0.0                         0.0  2.145432e+07  \n",
       "214                         0.0                         0.0  2.165190e+07  \n",
       "215                         0.0                         0.0  2.184658e+07  \n",
       "216                         0.0                         0.0  2.203598e+07  \n",
       "217                         0.0                         0.0  2.224593e+07  \n",
       "\n",
       "[218 rows x 16 columns]"
      ]
     },
     "execution_count": 22,
     "metadata": {},
     "output_type": "execute_result"
    }
   ],
   "source": [
    "predictions=model.predict(future_global)\n",
    "predictions"
   ]
  },
  {
   "cell_type": "code",
   "execution_count": 23,
   "id": "c5945a8e",
   "metadata": {},
   "outputs": [
    {
     "data": {
      "text/html": [
       "<div>\n",
       "<style scoped>\n",
       "    .dataframe tbody tr th:only-of-type {\n",
       "        vertical-align: middle;\n",
       "    }\n",
       "\n",
       "    .dataframe tbody tr th {\n",
       "        vertical-align: top;\n",
       "    }\n",
       "\n",
       "    .dataframe thead th {\n",
       "        text-align: right;\n",
       "    }\n",
       "</style>\n",
       "<table border=\"1\" class=\"dataframe\">\n",
       "  <thead>\n",
       "    <tr style=\"text-align: right;\">\n",
       "      <th></th>\n",
       "      <th>ds</th>\n",
       "      <th>yhat</th>\n",
       "      <th>yhat_lower</th>\n",
       "      <th>yhat_upper</th>\n",
       "    </tr>\n",
       "  </thead>\n",
       "  <tbody>\n",
       "    <tr>\n",
       "      <th>213</th>\n",
       "      <td>2020-08-22</td>\n",
       "      <td>2.145432e+07</td>\n",
       "      <td>2.107921e+07</td>\n",
       "      <td>2.180658e+07</td>\n",
       "    </tr>\n",
       "    <tr>\n",
       "      <th>214</th>\n",
       "      <td>2020-08-23</td>\n",
       "      <td>2.165190e+07</td>\n",
       "      <td>2.124118e+07</td>\n",
       "      <td>2.202998e+07</td>\n",
       "    </tr>\n",
       "    <tr>\n",
       "      <th>215</th>\n",
       "      <td>2020-08-24</td>\n",
       "      <td>2.184658e+07</td>\n",
       "      <td>2.142619e+07</td>\n",
       "      <td>2.223779e+07</td>\n",
       "    </tr>\n",
       "    <tr>\n",
       "      <th>216</th>\n",
       "      <td>2020-08-25</td>\n",
       "      <td>2.203598e+07</td>\n",
       "      <td>2.157447e+07</td>\n",
       "      <td>2.244933e+07</td>\n",
       "    </tr>\n",
       "    <tr>\n",
       "      <th>217</th>\n",
       "      <td>2020-08-26</td>\n",
       "      <td>2.224593e+07</td>\n",
       "      <td>2.175090e+07</td>\n",
       "      <td>2.270050e+07</td>\n",
       "    </tr>\n",
       "  </tbody>\n",
       "</table>\n",
       "</div>"
      ],
      "text/plain": [
       "            ds          yhat    yhat_lower    yhat_upper\n",
       "213 2020-08-22  2.145432e+07  2.107921e+07  2.180658e+07\n",
       "214 2020-08-23  2.165190e+07  2.124118e+07  2.202998e+07\n",
       "215 2020-08-24  2.184658e+07  2.142619e+07  2.223779e+07\n",
       "216 2020-08-25  2.203598e+07  2.157447e+07  2.244933e+07\n",
       "217 2020-08-26  2.224593e+07  2.175090e+07  2.270050e+07"
      ]
     },
     "execution_count": 23,
     "metadata": {},
     "output_type": "execute_result"
    }
   ],
   "source": [
    "predictions[['ds','yhat','yhat_lower','yhat_upper']].tail()"
   ]
  },
  {
   "cell_type": "code",
   "execution_count": 24,
   "id": "3d8450b0",
   "metadata": {
    "scrolled": true
   },
   "outputs": [
    {
     "data": {
      "image/png": "[encoded data removed]",
      "text/plain": [
       "<Figure size 720x432 with 1 Axes>"
      ]
     },
     "execution_count": 24,
     "metadata": {},
     "output_type": "execute_result"
    },
    {
     "data": {
      "image/png": "[encoded data removed]",
      "text/plain": [
       "<Figure size 720x432 with 1 Axes>"
      ]
     },
     "metadata": {},
     "output_type": "display_data"
    }
   ],
   "source": [
    "model.plot(predictions)"
   ]
  },
  {
   "cell_type": "code",
   "execution_count": 26,
   "id": "4b637a1f",
   "metadata": {
    "scrolled": true
   },
   "outputs": [
    {
     "data": {
      "image/png": "[encoded data removed]",
      "text/plain": [
       "<Figure size 648x432 with 2 Axes>"
      ]
     },
     "execution_count": 26,
     "metadata": {},
     "output_type": "execute_result"
    },
    {
     "data": {
      "image/png": "[encoded data removed]",
      "text/plain": [
       "<Figure size 648x432 with 2 Axes>"
      ]
     },
     "metadata": {},
     "output_type": "display_data"
    }
   ],
   "source": [
    "model.plot_components(predictions)"
   ]
  },
  {
   "cell_type": "code",
   "execution_count": 27,
   "id": "54a502f7",
   "metadata": {},
   "outputs": [],
   "source": [
    "from fbprophet.plot import add_changepoints_to_plot"
   ]
  },
  {
   "cell_type": "code",
   "execution_count": 28,
   "id": "43c5f29f",
   "metadata": {},
   "outputs": [
    {
     "data": {
      "text/plain": [
       "[[<matplotlib.lines.Line2D at 0x2872d13fdc0>],\n",
       " <matplotlib.lines.Line2D at 0x2872d1ba940>,\n",
       " <matplotlib.lines.Line2D at 0x2872d1e14c0>,\n",
       " <matplotlib.lines.Line2D at 0x2872d1daa00>,\n",
       " <matplotlib.lines.Line2D at 0x2872d1da040>,\n",
       " <matplotlib.lines.Line2D at 0x2872d1dadf0>,\n",
       " <matplotlib.lines.Line2D at 0x2872d1f2ac0>,\n",
       " <matplotlib.lines.Line2D at 0x2872d1f2100>,\n",
       " <matplotlib.lines.Line2D at 0x2872d1ca940>,\n",
       " <matplotlib.lines.Line2D at 0x2872d1eaa00>,\n",
       " <matplotlib.lines.Line2D at 0x2872d1ea040>,\n",
       " <matplotlib.lines.Line2D at 0x2872d1eadf0>]"
      ]
     },
     "execution_count": 28,
     "metadata": {},
     "output_type": "execute_result"
    },
    {
     "data": {
      "image/png": "[encoded data removed]",
      "text/plain": [
       "<Figure size 720x432 with 1 Axes>"
      ]
     },
     "metadata": {},
     "output_type": "display_data"
    }
   ],
   "source": [
    "fig=model.plot(predictions)\n",
    "add_changepoints_to_plot(fig.gca(),model,predictions)"
   ]
  },
  {
   "cell_type": "code",
   "execution_count": 30,
   "id": "fc5aaf68",
   "metadata": {},
   "outputs": [],
   "source": [
    " from fbprophet.diagnostics import cross_validation"
   ]
  },
  {
   "cell_type": "code",
   "execution_count": 32,
   "id": "10d2046d",
   "metadata": {},
   "outputs": [
    {
     "name": "stderr",
     "output_type": "stream",
     "text": [
      "INFO:fbprophet:Making 5 forecasts with cutoffs between 2020-04-28 00:00:00 and 2020-06-27 00:00:00\n"
     ]
    },
    {
     "data": {
      "application/vnd.jupyter.widget-view+json": {
       "model_id": "7ddda584f97f4930b55ba011888546db",
       "version_major": 2,
       "version_minor": 0
      },
      "text/plain": [
       "  0%|          | 0/5 [00:00<?, ?it/s]"
      ]
     },
     "metadata": {},
     "output_type": "display_data"
    }
   ],
   "source": [
    "df_cv=cross_validation(model,horizon='30 days',period='15 days',initial='90 days')"
   ]
  },
  {
   "cell_type": "code",
   "execution_count": 33,
   "id": "9405d6a5",
   "metadata": {},
   "outputs": [
    {
     "data": {
      "text/html": [
       "<div>\n",
       "<style scoped>\n",
       "    .dataframe tbody tr th:only-of-type {\n",
       "        vertical-align: middle;\n",
       "    }\n",
       "\n",
       "    .dataframe tbody tr th {\n",
       "        vertical-align: top;\n",
       "    }\n",
       "\n",
       "    .dataframe thead th {\n",
       "        text-align: right;\n",
       "    }\n",
       "</style>\n",
       "<table border=\"1\" class=\"dataframe\">\n",
       "  <thead>\n",
       "    <tr style=\"text-align: right;\">\n",
       "      <th></th>\n",
       "      <th>ds</th>\n",
       "      <th>yhat</th>\n",
       "      <th>yhat_lower</th>\n",
       "      <th>yhat_upper</th>\n",
       "      <th>y</th>\n",
       "      <th>cutoff</th>\n",
       "    </tr>\n",
       "  </thead>\n",
       "  <tbody>\n",
       "    <tr>\n",
       "      <th>0</th>\n",
       "      <td>2020-04-29</td>\n",
       "      <td>3.201064e+06</td>\n",
       "      <td>3.195662e+06</td>\n",
       "      <td>3.205933e+06</td>\n",
       "      <td>3185195</td>\n",
       "      <td>2020-04-28</td>\n",
       "    </tr>\n",
       "    <tr>\n",
       "      <th>1</th>\n",
       "      <td>2020-04-30</td>\n",
       "      <td>3.285432e+06</td>\n",
       "      <td>3.279461e+06</td>\n",
       "      <td>3.290801e+06</td>\n",
       "      <td>3268876</td>\n",
       "      <td>2020-04-28</td>\n",
       "    </tr>\n",
       "    <tr>\n",
       "      <th>2</th>\n",
       "      <td>2020-05-01</td>\n",
       "      <td>3.369640e+06</td>\n",
       "      <td>3.362117e+06</td>\n",
       "      <td>3.377450e+06</td>\n",
       "      <td>3355922</td>\n",
       "      <td>2020-04-28</td>\n",
       "    </tr>\n",
       "    <tr>\n",
       "      <th>3</th>\n",
       "      <td>2020-05-02</td>\n",
       "      <td>3.450902e+06</td>\n",
       "      <td>3.439239e+06</td>\n",
       "      <td>3.462024e+06</td>\n",
       "      <td>3437608</td>\n",
       "      <td>2020-04-28</td>\n",
       "    </tr>\n",
       "    <tr>\n",
       "      <th>4</th>\n",
       "      <td>2020-05-03</td>\n",
       "      <td>3.530365e+06</td>\n",
       "      <td>3.512011e+06</td>\n",
       "      <td>3.545198e+06</td>\n",
       "      <td>3515244</td>\n",
       "      <td>2020-04-28</td>\n",
       "    </tr>\n",
       "  </tbody>\n",
       "</table>\n",
       "</div>"
      ],
      "text/plain": [
       "          ds          yhat    yhat_lower    yhat_upper        y     cutoff\n",
       "0 2020-04-29  3.201064e+06  3.195662e+06  3.205933e+06  3185195 2020-04-28\n",
       "1 2020-04-30  3.285432e+06  3.279461e+06  3.290801e+06  3268876 2020-04-28\n",
       "2 2020-05-01  3.369640e+06  3.362117e+06  3.377450e+06  3355922 2020-04-28\n",
       "3 2020-05-02  3.450902e+06  3.439239e+06  3.462024e+06  3437608 2020-04-28\n",
       "4 2020-05-03  3.530365e+06  3.512011e+06  3.545198e+06  3515244 2020-04-28"
      ]
     },
     "execution_count": 33,
     "metadata": {},
     "output_type": "execute_result"
    }
   ],
   "source": [
    "df_cv.head()"
   ]
  },
  {
   "cell_type": "code",
   "execution_count": 34,
   "id": "9f0a8885",
   "metadata": {},
   "outputs": [],
   "source": [
    "from fbprophet.diagnostics import performance_metrics"
   ]
  },
  {
   "cell_type": "code",
   "execution_count": 35,
   "id": "049e0fb9",
   "metadata": {},
   "outputs": [
    {
     "data": {
      "text/html": [
       "<div>\n",
       "<style scoped>\n",
       "    .dataframe tbody tr th:only-of-type {\n",
       "        vertical-align: middle;\n",
       "    }\n",
       "\n",
       "    .dataframe tbody tr th {\n",
       "        vertical-align: top;\n",
       "    }\n",
       "\n",
       "    .dataframe thead th {\n",
       "        text-align: right;\n",
       "    }\n",
       "</style>\n",
       "<table border=\"1\" class=\"dataframe\">\n",
       "  <thead>\n",
       "    <tr style=\"text-align: right;\">\n",
       "      <th></th>\n",
       "      <th>horizon</th>\n",
       "      <th>mse</th>\n",
       "      <th>rmse</th>\n",
       "      <th>mae</th>\n",
       "      <th>mape</th>\n",
       "      <th>mdape</th>\n",
       "      <th>coverage</th>\n",
       "    </tr>\n",
       "  </thead>\n",
       "  <tbody>\n",
       "    <tr>\n",
       "      <th>0</th>\n",
       "      <td>3 days</td>\n",
       "      <td>2.732177e+10</td>\n",
       "      <td>165292.978537</td>\n",
       "      <td>129431.475977</td>\n",
       "      <td>0.016894</td>\n",
       "      <td>0.017781</td>\n",
       "      <td>0.000000</td>\n",
       "    </tr>\n",
       "    <tr>\n",
       "      <th>1</th>\n",
       "      <td>4 days</td>\n",
       "      <td>3.783770e+10</td>\n",
       "      <td>194519.153621</td>\n",
       "      <td>151640.363022</td>\n",
       "      <td>0.019358</td>\n",
       "      <td>0.022609</td>\n",
       "      <td>0.000000</td>\n",
       "    </tr>\n",
       "    <tr>\n",
       "      <th>2</th>\n",
       "      <td>5 days</td>\n",
       "      <td>5.187132e+10</td>\n",
       "      <td>227752.759122</td>\n",
       "      <td>175493.706735</td>\n",
       "      <td>0.021809</td>\n",
       "      <td>0.025662</td>\n",
       "      <td>0.066667</td>\n",
       "    </tr>\n",
       "    <tr>\n",
       "      <th>3</th>\n",
       "      <td>6 days</td>\n",
       "      <td>6.958295e+10</td>\n",
       "      <td>263785.805797</td>\n",
       "      <td>202488.978430</td>\n",
       "      <td>0.024588</td>\n",
       "      <td>0.026660</td>\n",
       "      <td>0.133333</td>\n",
       "    </tr>\n",
       "    <tr>\n",
       "      <th>4</th>\n",
       "      <td>7 days</td>\n",
       "      <td>9.037899e+10</td>\n",
       "      <td>300630.981552</td>\n",
       "      <td>232841.149368</td>\n",
       "      <td>0.027870</td>\n",
       "      <td>0.031220</td>\n",
       "      <td>0.200000</td>\n",
       "    </tr>\n",
       "  </tbody>\n",
       "</table>\n",
       "</div>"
      ],
      "text/plain": [
       "  horizon           mse           rmse            mae      mape     mdape  \\\n",
       "0  3 days  2.732177e+10  165292.978537  129431.475977  0.016894  0.017781   \n",
       "1  4 days  3.783770e+10  194519.153621  151640.363022  0.019358  0.022609   \n",
       "2  5 days  5.187132e+10  227752.759122  175493.706735  0.021809  0.025662   \n",
       "3  6 days  6.958295e+10  263785.805797  202488.978430  0.024588  0.026660   \n",
       "4  7 days  9.037899e+10  300630.981552  232841.149368  0.027870  0.031220   \n",
       "\n",
       "   coverage  \n",
       "0  0.000000  \n",
       "1  0.000000  \n",
       "2  0.066667  \n",
       "3  0.133333  \n",
       "4  0.200000  "
      ]
     },
     "execution_count": 35,
     "metadata": {},
     "output_type": "execute_result"
    }
   ],
   "source": [
    "df_performance=performance_metrics(df_cv)\n",
    "df_performance.head()"
   ]
  },
  {
   "cell_type": "code",
   "execution_count": 37,
   "id": "9eb89ba9",
   "metadata": {},
   "outputs": [
    {
     "data": {
      "image/png": "[encoded data removed]",
      "text/plain": [
       "<Figure size 720x432 with 1 Axes>"
      ]
     },
     "metadata": {},
     "output_type": "display_data"
    }
   ],
   "source": [
    "from fbprophet.plot import plot_cross_validation_metric\n",
    "df_performance=plot_cross_validation_metric(df_cv,metric='rmse')"
   ]
  },
  {
   "cell_type": "code",
   "execution_count": 39,
   "id": "408b8e45",
   "metadata": {},
   "outputs": [
    {
     "data": {
      "image/png": "[encoded data removed]",
      "text/plain": [
       "<Figure size 720x432 with 1 Axes>"
      ]
     },
     "metadata": {},
     "output_type": "display_data"
    }
   ],
   "source": [
    "df_performance=plot_cross_validation_metric(df_cv,metric='mape')"
   ]
  },
  {
   "cell_type": "code",
   "execution_count": null,
   "id": "5d070cfb",
   "metadata": {},
   "outputs": [],
   "source": []
  }
 ],
 "metadata": {
  "kernelspec": {
   "display_name": "Python 3",
   "language": "python",
   "name": "python3"
  },
  "language_info": {
   "codemirror_mode": {
    "name": "ipython",
    "version": 3
   },
   "file_extension": ".py",
   "mimetype": "text/x-python",
   "name": "python",
   "nbconvert_exporter": "python",
   "pygments_lexer": "ipython3",
   "version": "3.8.8"
  }
 },
 "nbformat": 4,
 "nbformat_minor": 5
}
